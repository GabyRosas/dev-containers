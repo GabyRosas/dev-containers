{
 "cells": [
  {
   "cell_type": "code",
   "execution_count": null,
   "metadata": {},
   "outputs": [],
   "source": [
    "import matplotlib\n",
    "import flask"
   ]
  },
  {
   "cell_type": "code",
   "execution_count": null,
   "metadata": {},
   "outputs": [],
   "source": [
    "import matplotlib.pyplot as plt\n",
    "\n",
    "# Datos de ejemplo\n",
    "x = [0, 1, 2, 3, 4, 5]\n",
    "y = [0, 1, 4, 9, 16, 25]\n",
    "\n",
    "# Crear la gráfica\n",
    "plt.plot(x, y, label='y = x^2', color='blue', marker='o')\n",
    "\n",
    "# Agregar título y etiquetas a los ejes\n",
    "plt.title('Gráfica de y = x^2')\n",
    "plt.xlabel('Valores de x')\n",
    "plt.ylabel('Valores de y')\n",
    "\n",
    "# Agregar leyenda\n",
    "plt.legend()"
   ]
  }
 ],
 "metadata": {
  "kernelspec": {
   "display_name": "Python 3",
   "language": "python",
   "name": "python3"
  },
  "language_info": {
   "name": "python",
   "version": "3.12.7"
  }
 },
 "nbformat": 4,
 "nbformat_minor": 2
}
